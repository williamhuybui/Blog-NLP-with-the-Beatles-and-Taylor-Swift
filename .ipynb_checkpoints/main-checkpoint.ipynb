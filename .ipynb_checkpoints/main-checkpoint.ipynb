{
 "cells": [
  {
   "cell_type": "code",
   "execution_count": 80,
   "metadata": {},
   "outputs": [],
   "source": [
    "import pandas as pd\n",
    "import numpy as np"
   ]
  },
  {
   "cell_type": "code",
   "execution_count": 81,
   "metadata": {},
   "outputs": [
    {
     "name": "stdout",
     "output_type": "stream",
     "text": [
      "ADayInTheLife.txt            HeyJude.txt\r\n",
      "ComeTogether.txt             IWantToHoldYourHand.txt\r\n",
      "DontLetMeDown.txt            LoveMeDo.txt\r\n",
      "EleanorRigby.txt             Something.txt\r\n",
      "Help.txt                     WhileMyGuitarGentlyWeeps.txt\r\n"
     ]
    }
   ],
   "source": [
    "!ls Data/TheBeatle"
   ]
  },
  {
   "cell_type": "code",
   "execution_count": 119,
   "metadata": {},
   "outputs": [
    {
     "data": {
      "text/plain": [
       "['Data/TheBeatle/LoveMeDo.txt',\n",
       " 'Data/TheBeatle/IWantToHoldYourHand.txt',\n",
       " 'Data/TheBeatle/WhileMyGuitarGentlyWeeps.txt',\n",
       " 'Data/TheBeatle/ComeTogether.txt',\n",
       " 'Data/TheBeatle/Something.txt',\n",
       " 'Data/TheBeatle/EleanorRigby.txt',\n",
       " 'Data/TheBeatle/ADayInTheLife.txt',\n",
       " 'Data/TheBeatle/DontLetMeDown.txt',\n",
       " 'Data/TheBeatle/Help.txt',\n",
       " 'Data/TheBeatle/HeyJude.txt',\n",
       " 'Data/TaylorSwift/BadBlood.txt',\n",
       " 'Data/TaylorSwift/YouNeedToCalmDown.txt',\n",
       " 'Data/TaylorSwift/Delicate.txt',\n",
       " 'Data/TaylorSwift/TheMan.txt',\n",
       " 'Data/TaylorSwift/YouBelongWithMe.txt',\n",
       " 'Data/TaylorSwift/SoonYouWillGetBetter.txt',\n",
       " 'Data/TaylorSwift/LookWhatYouMakeMeDo.txt',\n",
       " 'Data/TaylorSwift/Me!.txt',\n",
       " 'Data/TaylorSwift/LoveStory.txt',\n",
       " 'Data/TaylorSwift/22.txt']"
      ]
     },
     "execution_count": 119,
     "metadata": {},
     "output_type": "execute_result"
    }
   ],
   "source": [
    "#Load the data\n",
    "import glob\n",
    "TheBeatle=glob.glob(\"Data/TheBeatle/*.txt\")\n",
    "TaylorSwift=glob.glob(\"Data/TaylorSwift/*.txt\")\n",
    "filenames=TheBeatle+TaylorSwift\n",
    "filenames"
   ]
  },
  {
   "cell_type": "code",
   "execution_count": 181,
   "metadata": {},
   "outputs": [
    {
     "name": "stdout",
     "output_type": "stream",
     "text": [
      "[\"Hey Jude, don't make it bad\\n\", 'Take a sad song and make it better\\n', 'Remember to let her into your heart\\n', 'Then you can start to make it better\\n']\n"
     ]
    }
   ],
   "source": [
    "#Open the test_song\n",
    "with open('Data/TheBeatle/HeyJude.txt') as f:\n",
    "    test_song = f.readlines()\n",
    "    test_song = test_song[:4]\n",
    "    print(test_song)"
   ]
  },
  {
   "cell_type": "code",
   "execution_count": 322,
   "metadata": {},
   "outputs": [
    {
     "name": "stdout",
     "output_type": "stream",
     "text": [
      "[\"'Cause baby now we got bad blood\\n\", 'You know it used to be mad love\\n', \"So take a look at what you've done\\n\", \"'Cause baby now we got bad blood\\n\"]\n"
     ]
    }
   ],
   "source": [
    "with open('Data/TaylorSwift/BadBlood.txt') as f:\n",
    "    test_song = f.readlines()\n",
    "    test_song = test_song[:4]\n",
    "    print(test_song)"
   ]
  },
  {
   "cell_type": "code",
   "execution_count": 253,
   "metadata": {},
   "outputs": [
    {
     "data": {
      "text/plain": [
       "['!',\n",
       " '\"',\n",
       " '#',\n",
       " '$',\n",
       " '%',\n",
       " '&',\n",
       " '(',\n",
       " ')',\n",
       " '*',\n",
       " '+',\n",
       " ',',\n",
       " '-',\n",
       " '.',\n",
       " '/',\n",
       " ':',\n",
       " ';',\n",
       " '<',\n",
       " '=',\n",
       " '>',\n",
       " '?',\n",
       " '@',\n",
       " '[',\n",
       " '\\\\',\n",
       " ']',\n",
       " '^',\n",
       " '_',\n",
       " '`',\n",
       " '{',\n",
       " '|',\n",
       " '}',\n",
       " '~']"
      ]
     },
     "execution_count": 253,
     "metadata": {},
     "output_type": "execute_result"
    }
   ],
   "source": [
    "punctuations = list(string.punctuation)\n",
    "punctuations.remove(\"'\")\n",
    "punctuations"
   ]
  },
  {
   "cell_type": "code",
   "execution_count": 312,
   "metadata": {},
   "outputs": [],
   "source": [
    "#clean\n",
    "import string\n",
    "\n",
    "punctuations = list(string.punctuation)\n",
    "punctuations.remove(\"'\")\n",
    "punctuations+=\"\\n\"\n",
    "\n",
    "def remove_line_break(song):\n",
    "    cleaned = []\n",
    "    for line in song:\n",
    "        for symbol in punctuations:\n",
    "            line = line.replace(symbol, '').lower()\n",
    "        cleaned.append(line)\n",
    "    return cleaned"
   ]
  },
  {
   "cell_type": "code",
   "execution_count": 314,
   "metadata": {},
   "outputs": [
    {
     "data": {
      "text/plain": [
       "[\"you are somebody that i don't know\",\n",
       " \"but you're takin' shots at me like it's patrón\",\n",
       " \"and i'm just like damn it's 7 am\",\n",
       " \"say it in the street that's a knockout\"]"
      ]
     },
     "execution_count": 314,
     "metadata": {},
     "output_type": "execute_result"
    }
   ],
   "source": [
    "test_song=remove_line_break(test_song)\n",
    "test_song"
   ]
  },
  {
   "cell_type": "markdown",
   "metadata": {},
   "source": [
    "### Tokenization"
   ]
  },
  {
   "cell_type": "code",
   "execution_count": 309,
   "metadata": {},
   "outputs": [],
   "source": []
  },
  {
   "cell_type": "code",
   "execution_count": 321,
   "metadata": {},
   "outputs": [
    {
     "name": "stdout",
     "output_type": "stream",
     "text": [
      "['I', \"'m\", 'dangerous', '.', 'Do', \"n't\", 'underestimate', '!', '!', '!']\n",
      "[\"I'm\", 'dangerous.', \"Don't\", 'underestimate!!!']\n"
     ]
    }
   ],
   "source": [
    "from nltk import word_tokenize\n",
    "\n",
    "sentence= \"I'm dangerous. Don't underestimate!!!\"\n",
    "print(word_tokenize(sentence))\n",
    "print(sentence.split(\" \"))"
   ]
  },
  {
   "cell_type": "code",
   "execution_count": 311,
   "metadata": {},
   "outputs": [],
   "source": [
    "#https://stackoverflow.com/questions/35345761/python-re-split-vs-nltk-word-tokenize-and-sent-tokenize\n",
    "def tokenize(song):\n",
    "    joined_song = ' '.join(song)\n",
    "    tokenized_song = word_tokenize(joined_song)\n",
    "    return tokenized_song"
   ]
  },
  {
   "cell_type": "code",
   "execution_count": 315,
   "metadata": {},
   "outputs": [
    {
     "data": {
      "text/plain": [
       "['you',\n",
       " 'are',\n",
       " 'somebody',\n",
       " 'that',\n",
       " 'i',\n",
       " 'do',\n",
       " \"n't\",\n",
       " 'know',\n",
       " 'but',\n",
       " 'you',\n",
       " \"'re\",\n",
       " 'takin',\n",
       " \"'\",\n",
       " 'shots',\n",
       " 'at',\n",
       " 'me',\n",
       " 'like',\n",
       " 'it',\n",
       " \"'s\",\n",
       " 'patrón',\n",
       " 'and',\n",
       " 'i',\n",
       " \"'m\",\n",
       " 'just',\n",
       " 'like',\n",
       " 'damn',\n",
       " 'it',\n",
       " \"'s\",\n",
       " '7',\n",
       " 'am',\n",
       " 'say',\n",
       " 'it',\n",
       " 'in',\n",
       " 'the',\n",
       " 'street',\n",
       " 'that',\n",
       " \"'s\",\n",
       " 'a',\n",
       " 'knockout']"
      ]
     },
     "execution_count": 315,
     "metadata": {},
     "output_type": "execute_result"
    }
   ],
   "source": [
    "tokenize(test_song)"
   ]
  },
  {
   "cell_type": "markdown",
   "metadata": {},
   "source": [
    "### Stemming, Lemmatization, and Stopwords"
   ]
  },
  {
   "cell_type": "code",
   "execution_count": 292,
   "metadata": {},
   "outputs": [
    {
     "name": "stdout",
     "output_type": "stream",
     "text": [
      "takin' : takin' takin'\n",
      "knock-out : knock-out knock-out\n",
      "don't : don't don't\n",
      "dangerous : danger dangerous\n",
      "working : work working\n",
      "apples : appl apples\n",
      "better : better good\n",
      "died : die died\n"
     ]
    }
   ],
   "source": [
    "import nltk\n",
    "from nltk.stem import PorterStemmer \n",
    "from nltk.tokenize import word_tokenize \n",
    "from nltk.stem import WordNetLemmatizer \n",
    "   \n",
    "ps = PorterStemmer() \n",
    "lemmatizer = WordNetLemmatizer() \n",
    "\n",
    "# choose some words to be stemmed \n",
    "words = [\"takin'\", \"knock-out\", \"don't\", \"dangerous\", \"working\", \"apples\", 'better', 'died' ] \n",
    "  \n",
    "for w in words: \n",
    "    print(w,\":\", ps.stem(w),lemmatizer.lemmatize(w,pos =\"a\")) "
   ]
  },
  {
   "cell_type": "code",
   "execution_count": 308,
   "metadata": {},
   "outputs": [
    {
     "name": "stdout",
     "output_type": "stream",
     "text": [
      "179\n",
      "['i', 'me', 'my', 'myself', 'we', 'our', 'ours', 'ourselves', 'you', \"you're\"]\n",
      "['what', 'which', 'who', 'whom', 'this', 'that', \"that'll\", 'these', 'those', 'am']\n"
     ]
    }
   ],
   "source": [
    "from nltk.corpus import stopwords\n",
    "\n",
    "stopwords_list = stopwords.words('english')\n",
    "print(len(stopwords_list))\n",
    "print(stopwords_list[:10])\n",
    "print(stopwords_list[35:45])"
   ]
  },
  {
   "cell_type": "code",
   "execution_count": 298,
   "metadata": {},
   "outputs": [
    {
     "data": {
      "text/plain": [
       "['i',\n",
       " 'me',\n",
       " 'my',\n",
       " 'myself',\n",
       " 'we',\n",
       " 'our',\n",
       " 'ours',\n",
       " 'ourselves',\n",
       " 'you',\n",
       " \"you're\",\n",
       " \"you've\",\n",
       " \"you'll\",\n",
       " \"you'd\",\n",
       " 'your',\n",
       " 'yours',\n",
       " 'yourself',\n",
       " 'yourselves',\n",
       " 'he',\n",
       " 'him',\n",
       " 'his',\n",
       " 'himself',\n",
       " 'she',\n",
       " \"she's\",\n",
       " 'her',\n",
       " 'hers',\n",
       " 'herself',\n",
       " 'it',\n",
       " \"it's\",\n",
       " 'its',\n",
       " 'itself',\n",
       " 'they',\n",
       " 'them',\n",
       " 'their',\n",
       " 'theirs',\n",
       " 'themselves',\n",
       " 'what',\n",
       " 'which',\n",
       " 'who',\n",
       " 'whom',\n",
       " 'this',\n",
       " 'that',\n",
       " \"that'll\",\n",
       " 'these',\n",
       " 'those',\n",
       " 'am',\n",
       " 'is',\n",
       " 'are',\n",
       " 'was',\n",
       " 'were',\n",
       " 'be',\n",
       " 'been',\n",
       " 'being',\n",
       " 'have',\n",
       " 'has',\n",
       " 'had',\n",
       " 'having',\n",
       " 'do',\n",
       " 'does',\n",
       " 'did',\n",
       " 'doing',\n",
       " 'a',\n",
       " 'an',\n",
       " 'the',\n",
       " 'and',\n",
       " 'but',\n",
       " 'if',\n",
       " 'or',\n",
       " 'because',\n",
       " 'as',\n",
       " 'until',\n",
       " 'while',\n",
       " 'of',\n",
       " 'at',\n",
       " 'by',\n",
       " 'for',\n",
       " 'with',\n",
       " 'about',\n",
       " 'against',\n",
       " 'between',\n",
       " 'into',\n",
       " 'through',\n",
       " 'during',\n",
       " 'before',\n",
       " 'after',\n",
       " 'above',\n",
       " 'below',\n",
       " 'to',\n",
       " 'from',\n",
       " 'up',\n",
       " 'down',\n",
       " 'in',\n",
       " 'out',\n",
       " 'on',\n",
       " 'off',\n",
       " 'over',\n",
       " 'under',\n",
       " 'again',\n",
       " 'further',\n",
       " 'then',\n",
       " 'once',\n",
       " 'here',\n",
       " 'there',\n",
       " 'when',\n",
       " 'where',\n",
       " 'why',\n",
       " 'how',\n",
       " 'all',\n",
       " 'any',\n",
       " 'both',\n",
       " 'each',\n",
       " 'few',\n",
       " 'more',\n",
       " 'most',\n",
       " 'other',\n",
       " 'some',\n",
       " 'such',\n",
       " 'no',\n",
       " 'nor',\n",
       " 'not',\n",
       " 'only',\n",
       " 'own',\n",
       " 'same',\n",
       " 'so',\n",
       " 'than',\n",
       " 'too',\n",
       " 'very',\n",
       " 's',\n",
       " 't',\n",
       " 'can',\n",
       " 'will',\n",
       " 'just',\n",
       " 'don',\n",
       " \"don't\",\n",
       " 'should',\n",
       " \"should've\",\n",
       " 'now',\n",
       " 'd',\n",
       " 'll',\n",
       " 'm',\n",
       " 'o',\n",
       " 're',\n",
       " 've',\n",
       " 'y',\n",
       " 'ain',\n",
       " 'aren',\n",
       " \"aren't\",\n",
       " 'couldn',\n",
       " \"couldn't\",\n",
       " 'didn',\n",
       " \"didn't\",\n",
       " 'doesn',\n",
       " \"doesn't\",\n",
       " 'hadn',\n",
       " \"hadn't\",\n",
       " 'hasn',\n",
       " \"hasn't\",\n",
       " 'haven',\n",
       " \"haven't\",\n",
       " 'isn',\n",
       " \"isn't\",\n",
       " 'ma',\n",
       " 'mightn',\n",
       " \"mightn't\",\n",
       " 'mustn',\n",
       " \"mustn't\",\n",
       " 'needn',\n",
       " \"needn't\",\n",
       " 'shan',\n",
       " \"shan't\",\n",
       " 'shouldn',\n",
       " \"shouldn't\",\n",
       " 'wasn',\n",
       " \"wasn't\",\n",
       " 'weren',\n",
       " \"weren't\",\n",
       " 'won',\n",
       " \"won't\",\n",
       " 'wouldn',\n",
       " \"wouldn't\"]"
      ]
     },
     "execution_count": 298,
     "metadata": {},
     "output_type": "execute_result"
    }
   ],
   "source": [
    "stopwords_list"
   ]
  },
  {
   "cell_type": "code",
   "execution_count": null,
   "metadata": {},
   "outputs": [],
   "source": []
  },
  {
   "cell_type": "code",
   "execution_count": 334,
   "metadata": {},
   "outputs": [],
   "source": [
    "from nltk.corpus import stopwords\n",
    "from nltk.stem import WordNetLemmatizer \n",
    "\n",
    "stopwords_list = stopwords.words('english')\n",
    "stopwords_list=stopwords_list[35:]\n",
    "lemmatizer = WordNetLemmatizer() \n",
    "\n",
    "def lemmatize_remove_stopwords(tokenize_list):\n",
    "    lemmatized_words=[]\n",
    "    for w in tokenize_list:\n",
    "        w=lemmatizer.lemmatize(w,pos =\"a\")\n",
    "        w=lemmatizer.lemmatize(w,pos =\"n\")\n",
    "        w=lemmatizer.lemmatize(w,pos =\"v\")\n",
    "        lemmatized_words.append(w)\n",
    "    song_noStopword = [word for word in lemmatized_words if word not in stopwords_list]\n",
    "    return song_noStopword"
   ]
  },
  {
   "cell_type": "code",
   "execution_count": 330,
   "metadata": {},
   "outputs": [
    {
     "data": {
      "text/plain": [
       "[\"'Cause baby now we got bad blood\\n\",\n",
       " 'You know it used to be mad love\\n',\n",
       " \"So take a look at what you've done\\n\",\n",
       " \"'Cause baby now we got bad blood\\n\"]"
      ]
     },
     "execution_count": 330,
     "metadata": {},
     "output_type": "execute_result"
    }
   ],
   "source": [
    "test_song"
   ]
  },
  {
   "cell_type": "code",
   "execution_count": 333,
   "metadata": {},
   "outputs": [
    {
     "ename": "TypeError",
     "evalue": "unhashable type: 'list'",
     "output_type": "error",
     "traceback": [
      "\u001b[0;31m---------------------------------------------------------------------------\u001b[0m",
      "\u001b[0;31mTypeError\u001b[0m                                 Traceback (most recent call last)",
      "\u001b[0;32m<ipython-input-333-976fd9273543>\u001b[0m in \u001b[0;36m<module>\u001b[0;34m\u001b[0m\n\u001b[0;32m----> 1\u001b[0;31m \u001b[0mlemmatizer\u001b[0m\u001b[0;34m.\u001b[0m\u001b[0mlemmatize\u001b[0m\u001b[0;34m(\u001b[0m\u001b[0mtokenize\u001b[0m\u001b[0;34m(\u001b[0m\u001b[0mtest_song\u001b[0m\u001b[0;34m)\u001b[0m\u001b[0;34m)\u001b[0m\u001b[0;34m\u001b[0m\u001b[0;34m\u001b[0m\u001b[0m\n\u001b[0m",
      "\u001b[0;32m~/anaconda3/lib/python3.7/site-packages/nltk/stem/wordnet.py\u001b[0m in \u001b[0;36mlemmatize\u001b[0;34m(self, word, pos)\u001b[0m\n\u001b[1;32m     39\u001b[0m \u001b[0;34m\u001b[0m\u001b[0m\n\u001b[1;32m     40\u001b[0m     \u001b[0;32mdef\u001b[0m \u001b[0mlemmatize\u001b[0m\u001b[0;34m(\u001b[0m\u001b[0mself\u001b[0m\u001b[0;34m,\u001b[0m \u001b[0mword\u001b[0m\u001b[0;34m,\u001b[0m \u001b[0mpos\u001b[0m\u001b[0;34m=\u001b[0m\u001b[0mNOUN\u001b[0m\u001b[0;34m)\u001b[0m\u001b[0;34m:\u001b[0m\u001b[0;34m\u001b[0m\u001b[0;34m\u001b[0m\u001b[0m\n\u001b[0;32m---> 41\u001b[0;31m         \u001b[0mlemmas\u001b[0m \u001b[0;34m=\u001b[0m \u001b[0mwordnet\u001b[0m\u001b[0;34m.\u001b[0m\u001b[0m_morphy\u001b[0m\u001b[0;34m(\u001b[0m\u001b[0mword\u001b[0m\u001b[0;34m,\u001b[0m \u001b[0mpos\u001b[0m\u001b[0;34m)\u001b[0m\u001b[0;34m\u001b[0m\u001b[0;34m\u001b[0m\u001b[0m\n\u001b[0m\u001b[1;32m     42\u001b[0m         \u001b[0;32mreturn\u001b[0m \u001b[0mmin\u001b[0m\u001b[0;34m(\u001b[0m\u001b[0mlemmas\u001b[0m\u001b[0;34m,\u001b[0m \u001b[0mkey\u001b[0m\u001b[0;34m=\u001b[0m\u001b[0mlen\u001b[0m\u001b[0;34m)\u001b[0m \u001b[0;32mif\u001b[0m \u001b[0mlemmas\u001b[0m \u001b[0;32melse\u001b[0m \u001b[0mword\u001b[0m\u001b[0;34m\u001b[0m\u001b[0;34m\u001b[0m\u001b[0m\n\u001b[1;32m     43\u001b[0m \u001b[0;34m\u001b[0m\u001b[0m\n",
      "\u001b[0;32m~/anaconda3/lib/python3.7/site-packages/nltk/corpus/reader/wordnet.py\u001b[0m in \u001b[0;36m_morphy\u001b[0;34m(self, form, pos, check_exceptions)\u001b[0m\n\u001b[1;32m   1903\u001b[0m         \u001b[0;31m# 0. Check the exception lists\u001b[0m\u001b[0;34m\u001b[0m\u001b[0;34m\u001b[0m\u001b[0;34m\u001b[0m\u001b[0m\n\u001b[1;32m   1904\u001b[0m         \u001b[0;32mif\u001b[0m \u001b[0mcheck_exceptions\u001b[0m\u001b[0;34m:\u001b[0m\u001b[0;34m\u001b[0m\u001b[0;34m\u001b[0m\u001b[0m\n\u001b[0;32m-> 1905\u001b[0;31m             \u001b[0;32mif\u001b[0m \u001b[0mform\u001b[0m \u001b[0;32min\u001b[0m \u001b[0mexceptions\u001b[0m\u001b[0;34m:\u001b[0m\u001b[0;34m\u001b[0m\u001b[0;34m\u001b[0m\u001b[0m\n\u001b[0m\u001b[1;32m   1906\u001b[0m                 \u001b[0;32mreturn\u001b[0m \u001b[0mfilter_forms\u001b[0m\u001b[0;34m(\u001b[0m\u001b[0;34m[\u001b[0m\u001b[0mform\u001b[0m\u001b[0;34m]\u001b[0m \u001b[0;34m+\u001b[0m \u001b[0mexceptions\u001b[0m\u001b[0;34m[\u001b[0m\u001b[0mform\u001b[0m\u001b[0;34m]\u001b[0m\u001b[0;34m)\u001b[0m\u001b[0;34m\u001b[0m\u001b[0;34m\u001b[0m\u001b[0m\n\u001b[1;32m   1907\u001b[0m \u001b[0;34m\u001b[0m\u001b[0m\n",
      "\u001b[0;31mTypeError\u001b[0m: unhashable type: 'list'"
     ]
    }
   ],
   "source": [
    "lemmatizer.lemmatize(tokenize(test_song))"
   ]
  },
  {
   "cell_type": "code",
   "execution_count": 335,
   "metadata": {},
   "outputs": [
    {
     "name": "stdout",
     "output_type": "stream",
     "text": [
      "[\"'Cause\", 'baby', 'we', 'get', 'bad', 'blood', 'You', 'know', 'it', 'use', 'mad', 'love', 'So', 'take', 'look', 'you', \"'ve\", \"'Cause\", 'baby', 'we', 'get', 'bad', 'blood']\n"
     ]
    }
   ],
   "source": [
    "song_noStopword=lemmatize_remove_stopwords(tokenize(test_song))\n",
    "print(song_noStopword[:100])"
   ]
  },
  {
   "cell_type": "markdown",
   "metadata": {},
   "source": [
    "### Vectorize and frequency"
   ]
  },
  {
   "cell_type": "code",
   "execution_count": 222,
   "metadata": {},
   "outputs": [],
   "source": [
    "song=song_noStopword\n",
    "vocab=None\n",
    "if vocab:\n",
    "    unique_words = vocab\n",
    "else:\n",
    "    unique_words = list(set(song))\n",
    "\n",
    "#Initialize the dictionary\n",
    "song_dict = {i:0 for i in unique_words}\n",
    "\n",
    "for word in song:\n",
    "    song_dict[word] += 1"
   ]
  },
  {
   "cell_type": "code",
   "execution_count": 223,
   "metadata": {},
   "outputs": [
    {
     "data": {
      "text/plain": [
       "{'start': 1,\n",
       " 'Hey': 1,\n",
       " 'sad': 1,\n",
       " 'Take': 1,\n",
       " 'Remember': 1,\n",
       " 'Then': 1,\n",
       " 'let': 1,\n",
       " 'heart': 1,\n",
       " 'song': 1,\n",
       " 'bad': 1,\n",
       " 'Jude': 1,\n",
       " 'better': 2,\n",
       " 'make': 3}"
      ]
     },
     "execution_count": 223,
     "metadata": {},
     "output_type": "execute_result"
    }
   ],
   "source": [
    "song_dict"
   ]
  },
  {
   "cell_type": "markdown",
   "metadata": {},
   "source": []
  },
  {
   "cell_type": "code",
   "execution_count": 226,
   "metadata": {},
   "outputs": [
    {
     "name": "stdout",
     "output_type": "stream",
     "text": [
      "{'start': 1, 'Hey': 1, 'sad': 1, 'Take': 1, 'Remember': 1, 'Then': 1, 'let': 1, 'heart': 1, 'song': 1, 'bad': 1, 'Jude': 1, 'better': 2, 'make': 3}\n"
     ]
    }
   ],
   "source": [
    "def vectorize_and_freq(song, vocab=None):\n",
    "    \n",
    "    if vocab:\n",
    "        unique_words = vocab\n",
    "    else:\n",
    "        unique_words = list(set(song))\n",
    "    \n",
    "    song_dict = {i:0 for i in unique_words}\n",
    "    \n",
    "    for word in song:\n",
    "        song_dict[word] += 1\n",
    "    \n",
    "    return song_dict\n",
    "\n",
    "test_vectorized = vectorize_and_freq(song_noStopword)\n",
    "print(test_vectorized)"
   ]
  },
  {
   "cell_type": "markdown",
   "metadata": {},
   "source": [
    "## Term frequency - Inverse Document Frequency (TF-IDF)\n",
    "\n",
    "$$\\text{TF-IDF}=\\text{TF}\\times \\text{IDF}$$"
   ]
  },
  {
   "cell_type": "markdown",
   "metadata": {},
   "source": [
    "### Term frequency"
   ]
  },
  {
   "cell_type": "markdown",
   "metadata": {},
   "source": [
    "$$\\text{TF }(t) = \\frac{\\text{number of times t appears in a document}} {\\text{total number of terms in the document}} $$"
   ]
  },
  {
   "cell_type": "code",
   "execution_count": 225,
   "metadata": {},
   "outputs": [],
   "source": [
    "#TF\n",
    "def term_frequency(BoW_dict):\n",
    "    total_word_count = sum(BoW_dict.values())\n",
    "    \n",
    "    for ind, val in BoW_dict.items():\n",
    "        BoW_dict[ind] = val/ total_word_count\n",
    "    \n",
    "    return BoW_dict"
   ]
  },
  {
   "cell_type": "code",
   "execution_count": 227,
   "metadata": {},
   "outputs": [
    {
     "data": {
      "text/plain": [
       "{'start': 0.0625,\n",
       " 'Hey': 0.0625,\n",
       " 'sad': 0.0625,\n",
       " 'Take': 0.0625,\n",
       " 'Remember': 0.0625,\n",
       " 'Then': 0.0625,\n",
       " 'let': 0.0625,\n",
       " 'heart': 0.0625,\n",
       " 'song': 0.0625,\n",
       " 'bad': 0.0625,\n",
       " 'Jude': 0.0625,\n",
       " 'better': 0.125,\n",
       " 'make': 0.1875}"
      ]
     },
     "execution_count": 227,
     "metadata": {},
     "output_type": "execute_result"
    }
   ],
   "source": [
    "term_frequency(test_vectorized)"
   ]
  },
  {
   "cell_type": "markdown",
   "metadata": {},
   "source": [
    "$$\\text{IDF}(t) =  log_e \\left ( \\frac{\\text{Total Number of Documents}}{\\text{Number of Documents with t in it}} \\right ) $$"
   ]
  },
  {
   "cell_type": "code",
   "execution_count": 229,
   "metadata": {},
   "outputs": [],
   "source": [
    "def inverse_document_frequency(dicts_list):\n",
    "    #0 : Totoal Number of Document\n",
    "    num_doc=len(dicts_list)\n",
    "    \n",
    "    #1: Find all the unique words for all the document\n",
    "    vocab_set=[]\n",
    "    for d in dicts_list:\n",
    "        for word in d.keys():\n",
    "            vocab_set.append(word)\n",
    "    vocab_set=set(vocab_set)\n",
    "    \n",
    "    #2: Number of document with t in it\n",
    "    idf_t = {i:0 for i in vocab_set} #\n",
    "    \n",
    "    for word in idf_t.keys():\n",
    "        docs = 0\n",
    "        # Find number of doc for each word\n",
    "        for d in dicts_list:\n",
    "            if word in d:\n",
    "                docs += 1\n",
    "        \n",
    "        # Compute idf for each t\n",
    "        idf_t[word] = np.log((num_doc/ float(docs)))\n",
    "    \n",
    "    return idf_t"
   ]
  },
  {
   "cell_type": "code",
   "execution_count": null,
   "metadata": {},
   "outputs": [],
   "source": [
    "inverse_document_frequency()"
   ]
  },
  {
   "cell_type": "code",
   "execution_count": 230,
   "metadata": {},
   "outputs": [],
   "source": [
    "def tf_idf(dicts_list):\n",
    "    # Vocab for corpus\n",
    "    doc_tf_idf = {}\n",
    "    idf = inverse_document_frequency(dicts_list)\n",
    "    full_vocab_list = {i:0 for i in list(idf.keys())}\n",
    "    \n",
    "    # Create tf-idf list of dictionaries, containing a dictionary that will be updated for each document\n",
    "    tf_idf_list_of_dicts = []\n",
    "    \n",
    "    # Now, compute tf and then use this to compute and set tf-idf values for each document\n",
    "    for doc in dicts_list:\n",
    "        doc_tf = term_frequency(doc)\n",
    "        for word in doc_tf:\n",
    "            doc_tf_idf[word] = doc_tf[word] * idf[word]\n",
    "        tf_idf_list_of_dicts.append(doc_tf_idf)\n",
    "    return tf_idf_list_of_dicts"
   ]
  },
  {
   "cell_type": "code",
   "execution_count": null,
   "metadata": {},
   "outputs": [],
   "source": [
    "tf_idf()"
   ]
  },
  {
   "cell_type": "code",
   "execution_count": 231,
   "metadata": {},
   "outputs": [
    {
     "name": "stdout",
     "output_type": "stream",
     "text": [
      "['true', 'yeah', 'love', 'somebody', 'whoa', 'please', \"'ll\", 'someone', 'know', 'new']\n"
     ]
    }
   ],
   "source": [
    "def main(filenames):\n",
    "    # Iterate through list of filenames and read each in\n",
    "    count_vectorized_all_documents = []\n",
    "    for file in filenames:\n",
    "        with open(file) as f:\n",
    "            raw_data = f.readlines()\n",
    "        # Clean and tokenize raw text\n",
    "        cleaned = remove_line_break(raw_data)\n",
    "        tokenized = tokenize(cleaned)\n",
    "        tokenized_noStopword=remove_stopwords(tokenized)\n",
    "        \n",
    "        \n",
    "        # Get count vectorized representation and store in count_vectorized_all_documents  \n",
    "        count_vectorized_document = vectorize_and_freq(tokenized_noStopword)\n",
    "        \n",
    "        count_vectorized_all_documents.append(count_vectorized_document)\n",
    "    \n",
    "    # Now that we have a list of BoW respresentations of each song, create a tf-idf representation of everything\n",
    "    tf_idf_all_docs = tf_idf(count_vectorized_all_documents)\n",
    "    \n",
    "    return tf_idf_all_docs\n",
    "\n",
    "tf_idf_all_docs = main(filenames)\n",
    "print(list(tf_idf_all_docs[0])[:10])"
   ]
  },
  {
   "cell_type": "code",
   "execution_count": 232,
   "metadata": {},
   "outputs": [
    {
     "name": "stdout",
     "output_type": "stream",
     "text": [
      "Number of Dimensions: 804\n"
     ]
    }
   ],
   "source": [
    "#Visualize vectorization\n",
    "num_dims = len(tf_idf_all_docs[0])\n",
    "print(\"Number of Dimensions: {}\".format(num_dims))"
   ]
  },
  {
   "cell_type": "code",
   "execution_count": 233,
   "metadata": {
    "scrolled": true
   },
   "outputs": [
    {
     "data": {
      "text/plain": [
       "[0.21022682621431513,\n",
       " 0.052244646992824634,\n",
       " 0.003040119212982216,\n",
       " 0.027278608685323735,\n",
       " 0.2627835327678939,\n",
       " 0.013725686743761293,\n",
       " 0.04157711384153179,\n",
       " 0.007701635339554948,\n",
       " 0.006415220901227958,\n",
       " 0.05255670655357878]"
      ]
     },
     "execution_count": 233,
     "metadata": {},
     "output_type": "execute_result"
    }
   ],
   "source": [
    "#Reduce dimentionality\n",
    "tf_idf_vals_list = []\n",
    "\n",
    "for i in tf_idf_all_docs:\n",
    "    tf_idf_vals_list.append(list(i.values()))\n",
    "    \n",
    "tf_idf_vals_list[0][:10]"
   ]
  },
  {
   "cell_type": "code",
   "execution_count": 234,
   "metadata": {},
   "outputs": [],
   "source": [
    "import pandas as pd\n",
    "import numpy as np\n",
    "from mpl_toolkits.mplot3d import Axes3D\n",
    "import matplotlib.pyplot as plt\n",
    "%matplotlib inline\n",
    "from sklearn.manifold import TSNE\n",
    "from nltk.tokenize import word_tokenize\n",
    "np.random.seed(0)"
   ]
  },
  {
   "cell_type": "code",
   "execution_count": 235,
   "metadata": {},
   "outputs": [
    {
     "data": {
      "text/plain": [
       "array([[ -30.676756,  148.8248  ,   27.436302],\n",
       "       [ -40.961014, -264.48022 ,  -89.97479 ],\n",
       "       [  56.444702, -534.7949  ,  -67.950035],\n",
       "       [ 231.9587  ,   65.316986,  -10.279009],\n",
       "       [-257.32062 ,  100.48743 ,   29.223759],\n",
       "       [ 107.510826, -148.68199 ,   31.471302],\n",
       "       [ 138.7785  ,  -57.395523,  224.54993 ],\n",
       "       [-153.0391  ,  -27.453615, -132.84021 ],\n",
       "       [ -60.727   ,   53.267254,  242.00812 ],\n",
       "       [  33.352478,  -88.15343 , -261.79276 ],\n",
       "       [-161.2179  , -430.6327  ,   25.058247],\n",
       "       [ 374.61868 ,  -58.704376, -278.17316 ],\n",
       "       [ 142.55283 ,  198.12254 ,  191.07901 ],\n",
       "       [-274.9997  ,   73.04358 ,  276.0032  ],\n",
       "       [  39.650425,  146.51485 , -195.79883 ],\n",
       "       [ 193.05994 ,  493.1941  , -100.53756 ],\n",
       "       [-131.7784  , -139.306   ,  105.9708  ],\n",
       "       [ 231.01181 , -126.842155, -137.90419 ],\n",
       "       [ -31.122849,  383.95703 ,   11.687326],\n",
       "       [ 199.87135 ,  276.45874 ,  -42.79998 ]], dtype=float32)"
      ]
     },
     "execution_count": 235,
     "metadata": {},
     "output_type": "execute_result"
    }
   ],
   "source": [
    "t_sne_object_3d = TSNE(n_components=3)\n",
    "transformed_data_3d = t_sne_object_3d.fit_transform(tf_idf_vals_list)\n",
    "transformed_data_3d"
   ]
  },
  {
   "cell_type": "code",
   "execution_count": 236,
   "metadata": {},
   "outputs": [
    {
     "data": {
      "text/plain": [
       "array([[ 217.06     ,  -96.90487  ],\n",
       "       [-122.7845   ,  -36.96388  ],\n",
       "       [-119.95753  ,   62.39851  ],\n",
       "       [  52.665203 ,  -34.05478  ],\n",
       "       [-214.81386  ,   11.573165 ],\n",
       "       [   3.6671944, -230.2136   ],\n",
       "       [ 115.53055  , -211.24156  ],\n",
       "       [  73.90101  ,   57.268867 ],\n",
       "       [ 113.39233  , -111.9122   ],\n",
       "       [-186.22464  , -120.062645 ],\n",
       "       [ 196.60506  ,   67.63577  ],\n",
       "       [ -73.662674 , -127.15177  ],\n",
       "       [ -92.8853   ,  158.38802  ],\n",
       "       [-109.7701   , -218.98936  ],\n",
       "       [  20.228148 , -130.16609  ],\n",
       "       [ -33.236736 ,  -41.452713 ],\n",
       "       [ -23.23086  ,   48.825607 ],\n",
       "       [ 115.79982  ,  152.34834  ],\n",
       "       [   9.649508 ,  144.93164  ],\n",
       "       [ 146.9892   ,  -16.520266 ]], dtype=float32)"
      ]
     },
     "execution_count": 236,
     "metadata": {},
     "output_type": "execute_result"
    }
   ],
   "source": [
    "t_sne_object_2d = TSNE(n_components=2)\n",
    "transformed_data_2d = t_sne_object_2d.fit_transform(tf_idf_vals_list)\n",
    "transformed_data_2d"
   ]
  },
  {
   "cell_type": "code",
   "execution_count": 237,
   "metadata": {},
   "outputs": [
    {
     "data": {
      "image/png": "[encoded data removed]",
      "text/plain": [
       "<Figure size 1440x720 with 1 Axes>"
      ]
     },
     "metadata": {
      "needs_background": "light"
     },
     "output_type": "display_data"
    },
    {
     "data": {
      "image/png": "[encoded data removed]",
      "text/plain": [
       "<Figure size 1440x720 with 1 Axes>"
      ]
     },
     "metadata": {
      "needs_background": "light"
     },
     "output_type": "display_data"
    }
   ],
   "source": [
    "kendrick_3d = transformed_data_3d[10:]\n",
    "k3_x = [i[0] for i in kendrick_3d]\n",
    "k3_y = [i[1] for i in kendrick_3d]\n",
    "k3_z = [i[2] for i in kendrick_3d]\n",
    "\n",
    "garth_3d = transformed_data_3d[:10]\n",
    "g3_x = [i[0] for i in garth_3d]\n",
    "g3_y = [i[1] for i in garth_3d]\n",
    "g3_z = [i[2] for i in garth_3d]\n",
    "\n",
    "fig = plt.figure(figsize=(20,10))\n",
    "ax = fig.add_subplot(111, projection='3d')\n",
    "ax.scatter(k3_x, k3_y, k3_z, c='b', s=60, label='TaylorSwift')\n",
    "ax.scatter(g3_x, g3_y, g3_z, c='red', s=60, label='TheBeatles')\n",
    "ax.view_init(30, 10)\n",
    "ax.legend()\n",
    "plt.show()\n",
    "\n",
    "kendrick_2d = transformed_data_2d[:10]\n",
    "k2_x = [i[0] for i in kendrick_2d]\n",
    "k2_y = [i[1] for i in kendrick_2d]\n",
    "\n",
    "garth_2d = transformed_data_2d[10:]\n",
    "g2_x = [i[0] for i in garth_2d]\n",
    "g2_y = [i[1] for i in garth_2d]\n",
    "\n",
    "fig = plt.figure(figsize=(20,10))\n",
    "ax = fig.add_subplot(222)\n",
    "ax.scatter(k2_x, k2_y, c='b', label='TaylorSwift')\n",
    "ax.scatter(g2_x, g2_y, c='red', label='TheBeatles')\n",
    "ax.legend()\n",
    "plt.show()"
   ]
  },
  {
   "cell_type": "code",
   "execution_count": null,
   "metadata": {},
   "outputs": [],
   "source": []
  },
  {
   "cell_type": "code",
   "execution_count": null,
   "metadata": {},
   "outputs": [],
   "source": []
  },
  {
   "cell_type": "code",
   "execution_count": null,
   "metadata": {},
   "outputs": [],
   "source": []
  }
 ],
 "metadata": {
  "kernelspec": {
   "display_name": "Python 3",
   "language": "python",
   "name": "python3"
  },
  "language_info": {
   "codemirror_mode": {
    "name": "ipython",
    "version": 3
   },
   "file_extension": ".py",
   "mimetype": "text/x-python",
   "name": "python",
   "nbconvert_exporter": "python",
   "pygments_lexer": "ipython3",
   "version": "3.7.3"
  }
 },
 "nbformat": 4,
 "nbformat_minor": 2
}
