{
 "cells": [
  {
   "cell_type": "code",
   "execution_count": 80,
   "metadata": {},
   "outputs": [],
   "source": [
    "import pandas as pd\n",
    "import numpy as np"
   ]
  },
  {
   "cell_type": "code",
   "execution_count": 81,
   "metadata": {},
   "outputs": [
    {
     "name": "stdout",
     "output_type": "stream",
     "text": [
      "ADayInTheLife.txt            HeyJude.txt\r\n",
      "ComeTogether.txt             IWantToHoldYourHand.txt\r\n",
      "DontLetMeDown.txt            LoveMeDo.txt\r\n",
      "EleanorRigby.txt             Something.txt\r\n",
      "Help.txt                     WhileMyGuitarGentlyWeeps.txt\r\n"
     ]
    }
   ],
   "source": [
    "!ls Data/TheBeatle"
   ]
  },
  {
   "cell_type": "code",
   "execution_count": 119,
   "metadata": {},
   "outputs": [
    {
     "data": {
      "text/plain": [
       "['Data/TheBeatle/LoveMeDo.txt',\n",
       " 'Data/TheBeatle/IWantToHoldYourHand.txt',\n",
       " 'Data/TheBeatle/WhileMyGuitarGentlyWeeps.txt',\n",
       " 'Data/TheBeatle/ComeTogether.txt',\n",
       " 'Data/TheBeatle/Something.txt',\n",
       " 'Data/TheBeatle/EleanorRigby.txt',\n",
       " 'Data/TheBeatle/ADayInTheLife.txt',\n",
       " 'Data/TheBeatle/DontLetMeDown.txt',\n",
       " 'Data/TheBeatle/Help.txt',\n",
       " 'Data/TheBeatle/HeyJude.txt',\n",
       " 'Data/TaylorSwift/BadBlood.txt',\n",
       " 'Data/TaylorSwift/YouNeedToCalmDown.txt',\n",
       " 'Data/TaylorSwift/Delicate.txt',\n",
       " 'Data/TaylorSwift/TheMan.txt',\n",
       " 'Data/TaylorSwift/YouBelongWithMe.txt',\n",
       " 'Data/TaylorSwift/SoonYouWillGetBetter.txt',\n",
       " 'Data/TaylorSwift/LookWhatYouMakeMeDo.txt',\n",
       " 'Data/TaylorSwift/Me!.txt',\n",
       " 'Data/TaylorSwift/LoveStory.txt',\n",
       " 'Data/TaylorSwift/22.txt']"
      ]
     },
     "execution_count": 119,
     "metadata": {},
     "output_type": "execute_result"
    }
   ],
   "source": [
    "#Load the data\n",
    "import glob\n",
    "TheBeatle=glob.glob(\"Data/TheBeatle/*.txt\")\n",
    "TaylorSwift=glob.glob(\"Data/TaylorSwift/*.txt\")\n",
    "filenames=TheBeatle+TaylorSwift\n",
    "filenames"
   ]
  },
  {
   "cell_type": "code",
   "execution_count": 340,
   "metadata": {},
   "outputs": [
    {
     "name": "stdout",
     "output_type": "stream",
     "text": [
      "[\"Hey Jude, don't make it bad\\n\", 'Take a sad song and make it better\\n', 'Remember to let her into your heart\\n', 'Then you can start to make it better\\n']\n"
     ]
    }
   ],
   "source": [
    "#Open the test_song\n",
    "with open('Data/TheBeatle/HeyJude.txt') as f:\n",
    "    test_song = f.readlines()\n",
    "    test_song = test_song[:4]\n",
    "    print(test_song)"
   ]
  },
  {
   "cell_type": "code",
   "execution_count": 393,
   "metadata": {},
   "outputs": [
    {
     "name": "stdout",
     "output_type": "stream",
     "text": [
      "[\"You are somebody that I don't know\\n\", \"But you're takin' shots at me like it's Patrón\\n\", \"And I'm just like, damn, it's 7 AM\\n\", \"Say it in the street, that's a knock-out\\n\", \"But you say it in a Tweet, that's a cop-out\\n\", 'And I\\'m just like, \"Hey, are you okay?\"\\n', \"And I ain't tryna mess with your self-expression\\n\", \"But I've learned a lesson that stressin' and obsessin' 'bout somebody else is no fun\\n\", 'And snakes and stones never broke my bones\\n', 'So oh-oh, oh-oh, oh-oh, oh-oh, oh-oh\\n', \"You need to calm down, you're being too loud\\n\", \"And I'm just like oh-oh, oh-oh, oh-oh, oh-oh, oh-oh (oh)\\n\", 'You need to just stop\\n', 'Like can you just not step on my gown?\\n', 'You need to calm down\\n', \"You are somebody that we don't know\\n\", \"But you're comin' at my friends like a missile\\n\", 'Why are you mad?\\n', 'When you could be GLAAD? (You could be GLAAD)\\n', 'Sunshine on the street at the parade\\n', 'But you would rather be in the dark age\\n', \"Just makin' that sign must've taken all night\\n\", 'You just need to take several seats and then try to restore the peace\\n', 'And control your urges to scream about all the people you hate\\n', \"'Cause shade never made anybody less gay\\n\", 'So oh-oh, oh-oh, oh-oh, oh-oh, oh-oh\\n', \"You need to calm down, you're being too loud\\n\", \"And I'm just like oh-oh, oh-oh, oh-oh, oh-oh, oh-oh (oh)\\n\", 'You need to just stop\\n', 'Like can you just not step on his gown?\\n', 'You need to calm down\\n', 'And we see you over there on the internet\\n', 'Comparing all the girls who are killing it\\n', 'But we figured you out\\n', 'We all know now we all got crowns\\n', 'You need to calm down\\n', 'Oh-oh, oh-oh, oh-oh, oh-oh, oh-oh\\n', 'You need to calm down (you need to calm down)\\n', \"You're being too loud (you're being too loud)\\n\", \"And I'm just like oh-oh, oh-oh, oh-oh, oh-oh, oh-oh (oh)\\n\", 'You need to just stop (can you stop?)\\n', 'Like can you just not step on our gowns?\\n', 'You need to calm down']\n"
     ]
    }
   ],
   "source": [
    "with open('Data/TaylorSwift/YouNeedToCalmDown.txt') as f:\n",
    "    test_song = f.readlines()\n",
    "    test_song = test_song\n",
    "    print(test_song)"
   ]
  },
  {
   "cell_type": "code",
   "execution_count": 342,
   "metadata": {},
   "outputs": [
    {
     "data": {
      "text/plain": [
       "['!',\n",
       " '\"',\n",
       " '#',\n",
       " '$',\n",
       " '%',\n",
       " '&',\n",
       " '(',\n",
       " ')',\n",
       " '*',\n",
       " '+',\n",
       " ',',\n",
       " '-',\n",
       " '.',\n",
       " '/',\n",
       " ':',\n",
       " ';',\n",
       " '<',\n",
       " '=',\n",
       " '>',\n",
       " '?',\n",
       " '@',\n",
       " '[',\n",
       " '\\\\',\n",
       " ']',\n",
       " '^',\n",
       " '_',\n",
       " '`',\n",
       " '{',\n",
       " '|',\n",
       " '}',\n",
       " '~']"
      ]
     },
     "execution_count": 342,
     "metadata": {},
     "output_type": "execute_result"
    }
   ],
   "source": [
    "punctuations = list(string.punctuation)\n",
    "punctuations.remove(\"'\")\n",
    "punctuations"
   ]
  },
  {
   "cell_type": "code",
   "execution_count": 371,
   "metadata": {},
   "outputs": [],
   "source": [
    "#clean\n",
    "import string\n",
    "\n",
    "punctuations = list(string.punctuation)\n",
    "punctuations.remove(\"'\")\n",
    "punctuations+=\"\\n\"\n",
    "\n",
    "def clean_song(song):\n",
    "    cleaned = []\n",
    "    for line in song:\n",
    "        for symbol in punctuations:\n",
    "            line = line.replace(symbol, '').lower()\n",
    "        cleaned.append(line)\n",
    "    return cleaned"
   ]
  },
  {
   "cell_type": "code",
   "execution_count": 372,
   "metadata": {},
   "outputs": [
    {
     "data": {
      "text/plain": [
       "[\"you are somebody that i don't know\",\n",
       " \"but you're takin' shots at me like it's patrón\",\n",
       " \"and i'm just like damn it's 7 am\",\n",
       " \"say it in the street that's a knockout\"]"
      ]
     },
     "execution_count": 372,
     "metadata": {},
     "output_type": "execute_result"
    }
   ],
   "source": [
    "test_song=clean_song(test_song)\n",
    "test_song"
   ]
  },
  {
   "cell_type": "markdown",
   "metadata": {},
   "source": [
    "### Tokenization"
   ]
  },
  {
   "cell_type": "code",
   "execution_count": null,
   "metadata": {},
   "outputs": [],
   "source": []
  },
  {
   "cell_type": "code",
   "execution_count": 345,
   "metadata": {},
   "outputs": [
    {
     "name": "stdout",
     "output_type": "stream",
     "text": [
      "['I', \"'m\", 'dangerous', '.', 'Do', \"n't\", 'underestimate', '!', '!', '!']\n",
      "[\"I'm\", 'dangerous.', \"Don't\", 'underestimate!!!']\n"
     ]
    }
   ],
   "source": [
    "from nltk import word_tokenize\n",
    "\n",
    "sentence= \"I'm dangerous. Don't underestimate!!!\"\n",
    "print(word_tokenize(sentence))\n",
    "print(sentence.split(\" \"))"
   ]
  },
  {
   "cell_type": "code",
   "execution_count": 346,
   "metadata": {},
   "outputs": [],
   "source": [
    "#https://stackoverflow.com/questions/35345761/python-re-split-vs-nltk-word-tokenize-and-sent-tokenize\n",
    "def tokenize(song):\n",
    "    joined_song = ' '.join(song)\n",
    "    tokenized_song = word_tokenize(joined_song)\n",
    "    return tokenized_song"
   ]
  },
  {
   "cell_type": "code",
   "execution_count": 347,
   "metadata": {},
   "outputs": [
    {
     "data": {
      "text/plain": [
       "['you',\n",
       " 'are',\n",
       " 'somebody',\n",
       " 'that',\n",
       " 'i',\n",
       " 'do',\n",
       " \"n't\",\n",
       " 'know',\n",
       " 'but',\n",
       " 'you',\n",
       " \"'re\",\n",
       " 'takin',\n",
       " \"'\",\n",
       " 'shots',\n",
       " 'at',\n",
       " 'me',\n",
       " 'like',\n",
       " 'it',\n",
       " \"'s\",\n",
       " 'patrón',\n",
       " 'and',\n",
       " 'i',\n",
       " \"'m\",\n",
       " 'just',\n",
       " 'like',\n",
       " 'damn',\n",
       " 'it',\n",
       " \"'s\",\n",
       " '7',\n",
       " 'am',\n",
       " 'say',\n",
       " 'it',\n",
       " 'in',\n",
       " 'the',\n",
       " 'street',\n",
       " 'that',\n",
       " \"'s\",\n",
       " 'a',\n",
       " 'knockout']"
      ]
     },
     "execution_count": 347,
     "metadata": {},
     "output_type": "execute_result"
    }
   ],
   "source": [
    "tokenize(test_song)"
   ]
  },
  {
   "cell_type": "markdown",
   "metadata": {},
   "source": [
    "### Stemming, Lemmatization, and Stopwords"
   ]
  },
  {
   "cell_type": "code",
   "execution_count": 348,
   "metadata": {},
   "outputs": [
    {
     "name": "stdout",
     "output_type": "stream",
     "text": [
      "takin' : takin' takin'\n",
      "knock-out : knock-out knock-out\n",
      "don't : don't don't\n",
      "dangerous : danger dangerous\n",
      "working : work working\n",
      "apples : appl apples\n",
      "better : better good\n",
      "died : die died\n"
     ]
    }
   ],
   "source": [
    "import nltk\n",
    "from nltk.stem import PorterStemmer \n",
    "from nltk.tokenize import word_tokenize \n",
    "from nltk.stem import WordNetLemmatizer \n",
    "   \n",
    "ps = PorterStemmer() \n",
    "lemmatizer = WordNetLemmatizer() \n",
    "\n",
    "# choose some words to be stemmed \n",
    "words = [\"takin'\", \"knock-out\", \"don't\", \"dangerous\", \"working\", \"apples\", 'better', 'died' ] \n",
    "  \n",
    "for w in words: \n",
    "    print(w,\":\", ps.stem(w),lemmatizer.lemmatize(w,pos =\"a\")) "
   ]
  },
  {
   "cell_type": "code",
   "execution_count": 349,
   "metadata": {},
   "outputs": [
    {
     "name": "stdout",
     "output_type": "stream",
     "text": [
      "179\n",
      "['i', 'me', 'my', 'myself', 'we', 'our', 'ours', 'ourselves', 'you', \"you're\"]\n",
      "['what', 'which', 'who', 'whom', 'this', 'that', \"that'll\", 'these', 'those', 'am']\n"
     ]
    }
   ],
   "source": [
    "from nltk.corpus import stopwords\n",
    "\n",
    "stopwords_list = stopwords.words('english')\n",
    "print(len(stopwords_list))\n",
    "print(stopwords_list[:10])\n",
    "print(stopwords_list[35:45])"
   ]
  },
  {
   "cell_type": "code",
   "execution_count": 350,
   "metadata": {},
   "outputs": [
    {
     "data": {
      "text/plain": [
       "['i',\n",
       " 'me',\n",
       " 'my',\n",
       " 'myself',\n",
       " 'we',\n",
       " 'our',\n",
       " 'ours',\n",
       " 'ourselves',\n",
       " 'you',\n",
       " \"you're\",\n",
       " \"you've\",\n",
       " \"you'll\",\n",
       " \"you'd\",\n",
       " 'your',\n",
       " 'yours',\n",
       " 'yourself',\n",
       " 'yourselves',\n",
       " 'he',\n",
       " 'him',\n",
       " 'his',\n",
       " 'himself',\n",
       " 'she',\n",
       " \"she's\",\n",
       " 'her',\n",
       " 'hers',\n",
       " 'herself',\n",
       " 'it',\n",
       " \"it's\",\n",
       " 'its',\n",
       " 'itself',\n",
       " 'they',\n",
       " 'them',\n",
       " 'their',\n",
       " 'theirs',\n",
       " 'themselves',\n",
       " 'what',\n",
       " 'which',\n",
       " 'who',\n",
       " 'whom',\n",
       " 'this',\n",
       " 'that',\n",
       " \"that'll\",\n",
       " 'these',\n",
       " 'those',\n",
       " 'am',\n",
       " 'is',\n",
       " 'are',\n",
       " 'was',\n",
       " 'were',\n",
       " 'be',\n",
       " 'been',\n",
       " 'being',\n",
       " 'have',\n",
       " 'has',\n",
       " 'had',\n",
       " 'having',\n",
       " 'do',\n",
       " 'does',\n",
       " 'did',\n",
       " 'doing',\n",
       " 'a',\n",
       " 'an',\n",
       " 'the',\n",
       " 'and',\n",
       " 'but',\n",
       " 'if',\n",
       " 'or',\n",
       " 'because',\n",
       " 'as',\n",
       " 'until',\n",
       " 'while',\n",
       " 'of',\n",
       " 'at',\n",
       " 'by',\n",
       " 'for',\n",
       " 'with',\n",
       " 'about',\n",
       " 'against',\n",
       " 'between',\n",
       " 'into',\n",
       " 'through',\n",
       " 'during',\n",
       " 'before',\n",
       " 'after',\n",
       " 'above',\n",
       " 'below',\n",
       " 'to',\n",
       " 'from',\n",
       " 'up',\n",
       " 'down',\n",
       " 'in',\n",
       " 'out',\n",
       " 'on',\n",
       " 'off',\n",
       " 'over',\n",
       " 'under',\n",
       " 'again',\n",
       " 'further',\n",
       " 'then',\n",
       " 'once',\n",
       " 'here',\n",
       " 'there',\n",
       " 'when',\n",
       " 'where',\n",
       " 'why',\n",
       " 'how',\n",
       " 'all',\n",
       " 'any',\n",
       " 'both',\n",
       " 'each',\n",
       " 'few',\n",
       " 'more',\n",
       " 'most',\n",
       " 'other',\n",
       " 'some',\n",
       " 'such',\n",
       " 'no',\n",
       " 'nor',\n",
       " 'not',\n",
       " 'only',\n",
       " 'own',\n",
       " 'same',\n",
       " 'so',\n",
       " 'than',\n",
       " 'too',\n",
       " 'very',\n",
       " 's',\n",
       " 't',\n",
       " 'can',\n",
       " 'will',\n",
       " 'just',\n",
       " 'don',\n",
       " \"don't\",\n",
       " 'should',\n",
       " \"should've\",\n",
       " 'now',\n",
       " 'd',\n",
       " 'll',\n",
       " 'm',\n",
       " 'o',\n",
       " 're',\n",
       " 've',\n",
       " 'y',\n",
       " 'ain',\n",
       " 'aren',\n",
       " \"aren't\",\n",
       " 'couldn',\n",
       " \"couldn't\",\n",
       " 'didn',\n",
       " \"didn't\",\n",
       " 'doesn',\n",
       " \"doesn't\",\n",
       " 'hadn',\n",
       " \"hadn't\",\n",
       " 'hasn',\n",
       " \"hasn't\",\n",
       " 'haven',\n",
       " \"haven't\",\n",
       " 'isn',\n",
       " \"isn't\",\n",
       " 'ma',\n",
       " 'mightn',\n",
       " \"mightn't\",\n",
       " 'mustn',\n",
       " \"mustn't\",\n",
       " 'needn',\n",
       " \"needn't\",\n",
       " 'shan',\n",
       " \"shan't\",\n",
       " 'shouldn',\n",
       " \"shouldn't\",\n",
       " 'wasn',\n",
       " \"wasn't\",\n",
       " 'weren',\n",
       " \"weren't\",\n",
       " 'won',\n",
       " \"won't\",\n",
       " 'wouldn',\n",
       " \"wouldn't\"]"
      ]
     },
     "execution_count": 350,
     "metadata": {},
     "output_type": "execute_result"
    }
   ],
   "source": [
    "stopwords_list"
   ]
  },
  {
   "cell_type": "code",
   "execution_count": null,
   "metadata": {},
   "outputs": [],
   "source": []
  },
  {
   "cell_type": "code",
   "execution_count": 374,
   "metadata": {},
   "outputs": [],
   "source": [
    "from nltk.corpus import stopwords\n",
    "from nltk.stem import WordNetLemmatizer \n",
    "\n",
    "stopwords_list = stopwords.words('english')\n",
    "stopwords_list=stopwords_list[35:]\n",
    "stopwords_list+=[\"n't\", \"it\", \"'s\",\"'m\", \"'re\",\"'\",\"'ll\",\"'d\"]\n",
    "lemmatizer = WordNetLemmatizer() \n",
    "\n",
    "def lemmatize_remove_stopwords(tokenize_list):\n",
    "    lemmatized_words=[]\n",
    "    for w in tokenize_list:\n",
    "        w=lemmatizer.lemmatize(w,pos =\"a\")\n",
    "        w=lemmatizer.lemmatize(w,pos =\"n\")\n",
    "        w=lemmatizer.lemmatize(w,pos =\"v\")\n",
    "        lemmatized_words.append(w)\n",
    "    song_noStopword = [i for i in lemmatized_words if i not in stopwords_list]\n",
    "    return song_noStopword"
   ]
  },
  {
   "cell_type": "code",
   "execution_count": 375,
   "metadata": {},
   "outputs": [
    {
     "data": {
      "text/plain": [
       "[\"you are somebody that i don't know\",\n",
       " \"but you're takin' shots at me like it's patrón\",\n",
       " \"and i'm just like damn it's 7 am\",\n",
       " \"say it in the street that's a knockout\"]"
      ]
     },
     "execution_count": 375,
     "metadata": {},
     "output_type": "execute_result"
    }
   ],
   "source": [
    "test_song"
   ]
  },
  {
   "cell_type": "code",
   "execution_count": 376,
   "metadata": {},
   "outputs": [
    {
     "name": "stdout",
     "output_type": "stream",
     "text": [
      "['you', 'somebody', 'i', 'know', 'you', 'takin', 'shoot', 'me', 'like', 'patrón', 'i', 'like', 'damn', '7', 'say', 'street', 'knockout']\n"
     ]
    }
   ],
   "source": [
    "song_noStopword=lemmatize_remove_stopwords(tokenize(test_song))\n",
    "print(song_noStopword)"
   ]
  },
  {
   "cell_type": "markdown",
   "metadata": {},
   "source": [
    "### Vectorize and frequency"
   ]
  },
  {
   "cell_type": "code",
   "execution_count": 377,
   "metadata": {},
   "outputs": [],
   "source": [
    "song=song_noStopword\n",
    "vocab=None\n",
    "if vocab:\n",
    "    unique_words = vocab\n",
    "else:\n",
    "    unique_words = list(set(song))\n",
    "\n",
    "#Initialize the dictionary\n",
    "song_dict = {i:0 for i in unique_words}\n",
    "\n",
    "for word in song:\n",
    "    song_dict[word] += 1"
   ]
  },
  {
   "cell_type": "code",
   "execution_count": 378,
   "metadata": {},
   "outputs": [
    {
     "data": {
      "text/plain": [
       "{'you': 2,\n",
       " '7': 1,\n",
       " 'somebody': 1,\n",
       " 'say': 1,\n",
       " 'street': 1,\n",
       " 'like': 2,\n",
       " 'knockout': 1,\n",
       " 'know': 1,\n",
       " 'shoot': 1,\n",
       " 'patrón': 1,\n",
       " 'i': 2,\n",
       " 'damn': 1,\n",
       " 'me': 1,\n",
       " 'takin': 1}"
      ]
     },
     "execution_count": 378,
     "metadata": {},
     "output_type": "execute_result"
    }
   ],
   "source": [
    "song_dict"
   ]
  },
  {
   "cell_type": "markdown",
   "metadata": {},
   "source": []
  },
  {
   "cell_type": "code",
   "execution_count": 379,
   "metadata": {},
   "outputs": [
    {
     "name": "stdout",
     "output_type": "stream",
     "text": [
      "{'you': 2, '7': 1, 'somebody': 1, 'say': 1, 'street': 1, 'like': 2, 'knockout': 1, 'know': 1, 'shoot': 1, 'patrón': 1, 'i': 2, 'damn': 1, 'me': 1, 'takin': 1}\n"
     ]
    }
   ],
   "source": [
    "def vectorize_and_freq(song, vocab=None):\n",
    "    \n",
    "    if vocab:\n",
    "        unique_words = vocab\n",
    "    else:\n",
    "        unique_words = list(set(song))\n",
    "    \n",
    "    song_dict = {i:0 for i in unique_words}\n",
    "    \n",
    "    for word in song:\n",
    "        song_dict[word] += 1\n",
    "    \n",
    "    return song_dict\n",
    "\n",
    "test_vectorized = vectorize_and_freq(song_noStopword)\n",
    "print(test_vectorized)"
   ]
  },
  {
   "cell_type": "markdown",
   "metadata": {},
   "source": [
    "## Term frequency - Inverse Document Frequency (TF-IDF)\n",
    "\n",
    "$$\\text{TF-IDF}=\\text{TF}\\times \\text{IDF}$$"
   ]
  },
  {
   "cell_type": "markdown",
   "metadata": {},
   "source": [
    "### Term frequency"
   ]
  },
  {
   "cell_type": "markdown",
   "metadata": {},
   "source": [
    "$$\\text{TF }(t) = \\frac{\\text{number of times t appears in a document}} {\\text{total number of terms in the document}} $$"
   ]
  },
  {
   "cell_type": "code",
   "execution_count": 395,
   "metadata": {},
   "outputs": [],
   "source": [
    "#TF\n",
    "def term_frequency(BoW_dict):\n",
    "    total_word_count = sum(BoW_dict.values())\n",
    "    \n",
    "    for ind, val in BoW_dict.items():\n",
    "        BoW_dict[ind] = val/ total_word_count\n",
    "    \n",
    "    return BoW_dict"
   ]
  },
  {
   "cell_type": "code",
   "execution_count": 415,
   "metadata": {},
   "outputs": [
    {
     "name": "stdout",
     "output_type": "stream",
     "text": [
      "('you', 0.1542056074766355)\n",
      "('ohoh', 0.14018691588785046)\n",
      "('need', 0.056074766355140186)\n",
      "('like', 0.04672897196261682)\n",
      "('i', 0.037383177570093455)\n",
      "('calm', 0.037383177570093455)\n",
      "('we', 0.02336448598130841)\n",
      "('stop', 0.018691588785046728)\n",
      "('loud', 0.018691588785046728)\n",
      "('step', 0.014018691588785047)\n"
     ]
    }
   ],
   "source": [
    "output_=clean_song(test_song)\n",
    "output_=tokenize(output_)\n",
    "output_=lemmatize_remove_stopwords(output_)\n",
    "output_=vectorize_and_freq(output_)\n",
    "ouput_=term_frequency(output_)\n",
    "\n",
    "ouput_=sorted(ouput_.items(), key = lambda kv:(kv[1], kv[0]),reverse=True)\n",
    "\n",
    "for i in ouput_[:10]:\n",
    "    print(i)"
   ]
  },
  {
   "cell_type": "markdown",
   "metadata": {},
   "source": [
    "### Inverse Document Frequency"
   ]
  },
  {
   "cell_type": "markdown",
   "metadata": {},
   "source": [
    "$$\\text{IDF}(t) =  log_e \\left ( \\frac{\\text{Total Number of Documents}}{\\text{Number of Documents with t in it}} \\right ) $$"
   ]
  },
  {
   "cell_type": "code",
   "execution_count": 382,
   "metadata": {},
   "outputs": [],
   "source": [
    "def inverse_document_frequency(dicts_list):\n",
    "    #0 : Totoal Number of Document\n",
    "    num_doc=len(dicts_list)\n",
    "    \n",
    "    #1: Find all the unique words for all the document\n",
    "    vocab_set=[]\n",
    "    for d in dicts_list:\n",
    "        for word in d.keys():\n",
    "            vocab_set.append(word)\n",
    "    vocab_set=set(vocab_set)\n",
    "    \n",
    "    #2: Number of document with t in it\n",
    "    idf_t = {i:0 for i in vocab_set} #\n",
    "    \n",
    "    for word in idf_t.keys():\n",
    "        docs = 0\n",
    "        # Find number of doc for each word\n",
    "        for d in dicts_list:\n",
    "            if word in d:\n",
    "                docs += 1\n",
    "        \n",
    "        # Compute idf for each t\n",
    "        idf_t[word] = np.log((num_doc/ float(docs)))\n",
    "    \n",
    "    return idf_t"
   ]
  },
  {
   "cell_type": "code",
   "execution_count": 384,
   "metadata": {},
   "outputs": [],
   "source": [
    "def tf_idf(dicts_list):\n",
    "    # Vocab for corpus\n",
    "    doc_tf_idf = {}\n",
    "    idf = inverse_document_frequency(dicts_list)\n",
    "    full_vocab_list = {i:0 for i in list(idf.keys())}\n",
    "    \n",
    "    # Create tf-idf list of dictionaries, containing a dictionary that will be updated for each document\n",
    "    tf_idf_list_of_dicts = []\n",
    "    \n",
    "    # Now, compute tf and then use this to compute and set tf-idf values for each document\n",
    "    for doc in dicts_list:\n",
    "        doc_tf = term_frequency(doc)\n",
    "        for word in doc_tf:\n",
    "            doc_tf_idf[word] = doc_tf[word] * idf[word]\n",
    "        tf_idf_list_of_dicts.append(doc_tf_idf)\n",
    "    return tf_idf_list_of_dicts"
   ]
  },
  {
   "cell_type": "code",
   "execution_count": 449,
   "metadata": {},
   "outputs": [
    {
     "name": "stdout",
     "output_type": "stream",
     "text": [
      "Number of Dimensions: 712\n",
      "let 0.003921735518976991\n",
      "happy 0.016807190459810554\n",
      "get 0.006288801694780355\n",
      "your 0.01002310915754525\n",
      "think 0.0033410363858484165\n"
     ]
    }
   ],
   "source": [
    "def main(filenames):\n",
    "    # Iterate through list of filenames and read each in\n",
    "    cvad = [] #count vectorized all documents\n",
    "    for file in filenames:\n",
    "        with open(file) as f:\n",
    "            raw_data = f.readlines()\n",
    "        # Clean and tokenize raw text\n",
    "        ouput_ = clean_song(raw_data)\n",
    "        ouput_ = tokenize(ouput_)\n",
    "        ouput_=lemmatize_remove_stopwords(ouput_)  \n",
    "        ouput_ = vectorize_and_freq(ouput_)\n",
    "        cvad.append(ouput_)\n",
    "    # tf-idf representation of everything\n",
    "    tf_idf_all_docs = tf_idf(cvad)\n",
    "    \n",
    "    return tf_idf_all_docs\n",
    "\n",
    "tf_idf_all_docs = main(filenames)\n",
    "print(\"Number of Dimensions: {}\".format(len(tf_idf_all_docs[12])))\n",
    "for key, value in list(tf_idf_all_docs[15].items())[20:25]:\n",
    "    print(key,value)"
   ]
  },
  {
   "cell_type": "code",
   "execution_count": 425,
   "metadata": {},
   "outputs": [
    {
     "name": "stdout",
     "output_type": "stream",
     "text": [
      "Number of Dimensions: 712\n"
     ]
    }
   ],
   "source": [
    "#Visualize vectorization\n"
   ]
  },
  {
   "cell_type": "code",
   "execution_count": 388,
   "metadata": {
    "scrolled": true
   },
   "outputs": [
    {
     "data": {
      "text/plain": [
       "[0.004492843304019021,\n",
       " 0.14265391778828526,\n",
       " 0.04347364786264239,\n",
       " 0.0025297342356202382,\n",
       " 0.022562213725711686,\n",
       " 0.17831739723535658,\n",
       " 0.01160078963280243,\n",
       " 0.00592433487658073,\n",
       " 0.035663479447071315,\n",
       " 0.005338213012700637]"
      ]
     },
     "execution_count": 388,
     "metadata": {},
     "output_type": "execute_result"
    }
   ],
   "source": [
    "#Reduce dimentionality\n",
    "tf_idf_vals_list = []\n",
    "\n",
    "for i in tf_idf_all_docs:\n",
    "    tf_idf_vals_list.append(list(i.values()))\n",
    "    \n",
    "tf_idf_vals_list[0][:10]"
   ]
  },
  {
   "cell_type": "code",
   "execution_count": 389,
   "metadata": {},
   "outputs": [],
   "source": [
    "import pandas as pd\n",
    "\n",
    "from mpl_toolkits.mplot3d import Axes3D\n",
    "import matplotlib.pyplot as plt\n",
    "%matplotlib inline\n",
    "from sklearn.manifold import TSNE\n",
    "from nltk.tokenize import word_tokenize\n"
   ]
  },
  {
   "cell_type": "code",
   "execution_count": 480,
   "metadata": {},
   "outputs": [],
   "source": [
    "import numpy as np\n",
    "import matplotlib.pyplot as plt\n",
    "from sklearn.manifold import TSNE\n",
    "np.random.seed(10)\n",
    "\n",
    "tf_idf_all_docs = main(filenames) \n",
    "TSNE_2d = TSNE(n_components=2)\n",
    "data_2d = TSNE_2d.fit_transform(tf_idf_vals_list)"
   ]
  },
  {
   "cell_type": "code",
   "execution_count": 481,
   "metadata": {},
   "outputs": [
    {
     "data": {
      "image/png": "[encoded data removed]",
      "text/plain": [
       "<Figure size 1440x720 with 1 Axes>"
      ]
     },
     "metadata": {
      "needs_background": "light"
     },
     "output_type": "display_data"
    }
   ],
   "source": [
    "TheBeatle = data_2d[:10]\n",
    "beatle_x = [i[0] for i in TheBeatle]\n",
    "beatle_y = [i[1] for i in TheBeatle]\n",
    "\n",
    "TaylorSwift = data_2d[10:]\n",
    "ts_x = [i[0] for i in TaylorSwift]\n",
    "ts_y = [i[1] for i in TaylorSwift]\n",
    "\n",
    "fig = plt.figure(figsize=(20,10))\n",
    "ax = fig.add_subplot(222)\n",
    "ax.scatter(beatle_x, beatle_y, color='g', label='The Beatle')\n",
    "ax.scatter(ts_x, ts_y, color='r', label='Taylor Swift')\n",
    "ax.legend()\n",
    "plt.show()"
   ]
  },
  {
   "cell_type": "code",
   "execution_count": null,
   "metadata": {},
   "outputs": [],
   "source": []
  },
  {
   "cell_type": "code",
   "execution_count": null,
   "metadata": {},
   "outputs": [],
   "source": []
  },
  {
   "cell_type": "code",
   "execution_count": null,
   "metadata": {},
   "outputs": [],
   "source": []
  }
 ],
 "metadata": {
  "kernelspec": {
   "display_name": "Python 3",
   "language": "python",
   "name": "python3"
  },
  "language_info": {
   "codemirror_mode": {
    "name": "ipython",
    "version": 3
   },
   "file_extension": ".py",
   "mimetype": "text/x-python",
   "name": "python",
   "nbconvert_exporter": "python",
   "pygments_lexer": "ipython3",
   "version": "3.7.3"
  }
 },
 "nbformat": 4,
 "nbformat_minor": 2
}
